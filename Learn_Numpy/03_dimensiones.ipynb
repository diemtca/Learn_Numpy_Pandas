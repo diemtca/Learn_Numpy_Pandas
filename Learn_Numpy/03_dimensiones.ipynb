{
 "cells": [
  {
   "cell_type": "code",
   "execution_count": 1,
   "metadata": {},
   "outputs": [],
   "source": [
    "import numpy as np"
   ]
  },
  {
   "cell_type": "code",
   "execution_count": 3,
   "metadata": {},
   "outputs": [
    {
     "name": "stdout",
     "output_type": "stream",
     "text": [
      "42\n"
     ]
    },
    {
     "data": {
      "text/plain": [
       "0"
      ]
     },
     "execution_count": 3,
     "metadata": {},
     "output_type": "execute_result"
    }
   ],
   "source": [
    "scalar=np.array(42)\n",
    "print(scalar)\n",
    "scalar.ndim"
   ]
  },
  {
   "cell_type": "code",
   "execution_count": 6,
   "metadata": {},
   "outputs": [
    {
     "name": "stdout",
     "output_type": "stream",
     "text": [
      "[1 2 3]\n"
     ]
    },
    {
     "data": {
      "text/plain": [
       "1"
      ]
     },
     "execution_count": 6,
     "metadata": {},
     "output_type": "execute_result"
    }
   ],
   "source": [
    "vector=np.array([1,2,3])\n",
    "print(vector)\n",
    "vector.ndim"
   ]
  },
  {
   "cell_type": "code",
   "execution_count": 8,
   "metadata": {},
   "outputs": [
    {
     "name": "stdout",
     "output_type": "stream",
     "text": [
      "[[1 2 3]\n",
      " [4 5 6]]\n"
     ]
    },
    {
     "data": {
      "text/plain": [
       "2"
      ]
     },
     "execution_count": 8,
     "metadata": {},
     "output_type": "execute_result"
    }
   ],
   "source": [
    "matriz=np.array([[1,2,3],\n",
    "                 [4,5,6]])\n",
    "print(matriz)\n",
    "matriz.ndim"
   ]
  },
  {
   "cell_type": "code",
   "execution_count": 27,
   "metadata": {},
   "outputs": [
    {
     "name": "stdout",
     "output_type": "stream",
     "text": [
      "----------\n",
      "Tensor: \n",
      " [[[  1   2   3]\n",
      "  [  4   5   6]\n",
      "  [  7   8   9]\n",
      "  [ 40  50  60]]\n",
      "\n",
      " [[ 15  26  38]\n",
      "  [ 54   1   0]\n",
      "  [ 17   9   1]\n",
      "  [  0   5 355]]]\n",
      "----------\n",
      "el tensor tiene 3 dimensiones\n",
      "----------\n",
      "el elemento N° cero del tensor es la matriz \n",
      " [[ 1  2  3]\n",
      " [ 4  5  6]\n",
      " [ 7  8  9]\n",
      " [40 50 60]] \n",
      "----------\n",
      "el elemento N° (1,1) del tensor es el vector \n",
      " [54  1  0]\n",
      "----------\n",
      "el elemento N° (1,3,3) del tensor es el escalar \n",
      " 355\n"
     ]
    }
   ],
   "source": [
    "tensor=np.array([[[1,2,3],\n",
    "                  [4,5,6],\n",
    "                  [7,8,9],\n",
    "                  [40,50,60]],\n",
    "                  [[15,26,38],\n",
    "                   [54,1,0],\n",
    "                   [17,9,1],\n",
    "                   [0,5,355]]])\n",
    "print('-'*10)\n",
    "print(f'Tensor: \\n {tensor}')\n",
    "print('-'*10)\n",
    "print(f'el tensor tiene {tensor.ndim} dimensiones')\n",
    "print('-'*10)\n",
    "print(f'el elemento N° cero del tensor es la matriz \\n {tensor[0]} ')\n",
    "print('-'*10)\n",
    "print(f'el elemento N° (1,1) del tensor es el vector \\n {tensor[1,1]}')\n",
    "print('-'*10)\n",
    "print(f'el elemento N° (1,3,3) del tensor es el escalar \\n {tensor[1,3,2]}')"
   ]
  },
  {
   "attachments": {},
   "cell_type": "markdown",
   "metadata": {},
   "source": [
    "### Agregar o eliminar dimensiones"
   ]
  },
  {
   "attachments": {},
   "cell_type": "markdown",
   "metadata": {},
   "source": [
    "Definimos un arreglo con 10 dimensiones, a pesar de incluir un solo elemento llamado vector"
   ]
  },
  {
   "cell_type": "code",
   "execution_count": 28,
   "metadata": {},
   "outputs": [
    {
     "name": "stdout",
     "output_type": "stream",
     "text": [
      "[[[[[[[[[[1 2 3]]]]]]]]]]\n"
     ]
    },
    {
     "data": {
      "text/plain": [
       "10"
      ]
     },
     "execution_count": 28,
     "metadata": {},
     "output_type": "execute_result"
    }
   ],
   "source": [
    "vector=np.array([1,2,3],ndmin=10)\n",
    "print(vector)\n",
    "vector.ndim"
   ]
  },
  {
   "attachments": {},
   "cell_type": "markdown",
   "metadata": {},
   "source": [
    "\n",
    "Usamos el comando para expandir las dimensiones de nuestro vector, a pesar de que el array definido `np.array([[1,2,3],[1,2,3]]` solo tiene dos dimensiones,\n",
    "usamos el método `np.expand_dims(array,axis= 0 para_filas ó 1 para_columnas)` para añadir una dimensión más. Si el parametro `axis=0` añade una dimensión a las filas"
   ]
  },
  {
   "cell_type": "code",
   "execution_count": 39,
   "metadata": {},
   "outputs": [
    {
     "name": "stdout",
     "output_type": "stream",
     "text": [
      "[[[1 2 3]\n",
      "  [1 2 3]]]\n",
      "3\n"
     ]
    },
    {
     "data": {
      "text/plain": [
       "1"
      ]
     },
     "execution_count": 39,
     "metadata": {},
     "output_type": "execute_result"
    }
   ],
   "source": [
    "expand = np.expand_dims(np.array([[1,2,3],[1,2,3]]),axis=0)\n",
    "print(expand)\n",
    "print(expand.ndim)\n",
    "len(expand)\n"
   ]
  },
  {
   "attachments": {},
   "cell_type": "markdown",
   "metadata": {},
   "source": [
    "Si `axis=1` añade una dimensión a las columnas"
   ]
  },
  {
   "cell_type": "code",
   "execution_count": 37,
   "metadata": {},
   "outputs": [
    {
     "name": "stdout",
     "output_type": "stream",
     "text": [
      "[[[1 2 3]]\n",
      "\n",
      " [[1 2 3]]]\n",
      "3\n"
     ]
    },
    {
     "data": {
      "text/plain": [
       "2"
      ]
     },
     "execution_count": 37,
     "metadata": {},
     "output_type": "execute_result"
    }
   ],
   "source": [
    "expand = np.expand_dims(np.array([[1,2,3],[1,2,3]]),axis=1)\n",
    "print(expand)\n",
    "print(expand.ndim)\n",
    "len(expand)\n"
   ]
  },
  {
   "attachments": {},
   "cell_type": "markdown",
   "metadata": {},
   "source": [
    "### Reducir la dimensionalidad de un array\n",
    "\n",
    "Podemos reducir las dimensiones de un arreglo con el metodo `np.squeeze(array)` que retorna un array con las dimensiones utiles"
   ]
  },
  {
   "cell_type": "code",
   "execution_count": 45,
   "metadata": {},
   "outputs": [
    {
     "name": "stdout",
     "output_type": "stream",
     "text": [
      "vector [[[[[[[[[[1 2 3]]]]]]]]]] de 10 dimensiones\n",
      "vector reducido [1 2 3] de 1 dimensiones\n"
     ]
    }
   ],
   "source": [
    "print('vector {} de {} dimensiones'.format(vector,vector.ndim))\n",
    "vector_reducido=np.squeeze(vector)\n",
    "print('vector reducido {} de {} dimensiones'.format(vector_reducido,vector_reducido.ndim))\n"
   ]
  },
  {
   "cell_type": "code",
   "execution_count": null,
   "metadata": {},
   "outputs": [],
   "source": []
  }
 ],
 "metadata": {
  "kernelspec": {
   "display_name": "env_work",
   "language": "python",
   "name": "python3"
  },
  "language_info": {
   "codemirror_mode": {
    "name": "ipython",
    "version": 3
   },
   "file_extension": ".py",
   "mimetype": "text/x-python",
   "name": "python",
   "nbconvert_exporter": "python",
   "pygments_lexer": "ipython3",
   "version": "3.11.3"
  },
  "orig_nbformat": 4
 },
 "nbformat": 4,
 "nbformat_minor": 2
}
