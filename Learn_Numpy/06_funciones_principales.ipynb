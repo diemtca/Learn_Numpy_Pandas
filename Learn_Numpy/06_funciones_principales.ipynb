{
 "cells": [
  {
   "cell_type": "code",
   "execution_count": 91,
   "metadata": {},
   "outputs": [],
   "source": [
    "import numpy as np  "
   ]
  },
  {
   "cell_type": "code",
   "execution_count": 92,
   "metadata": {},
   "outputs": [
    {
     "name": "stdout",
     "output_type": "stream",
     "text": [
      "[[ 8 10  8  7  8]\n",
      " [15 17 16  9  9]]\n"
     ]
    }
   ],
   "source": [
    "arr = np.random.randint(1,20,10)\n",
    "matriz = arr.reshape(2,5)\n",
    "print(matriz)"
   ]
  },
  {
   "attachments": {},
   "cell_type": "markdown",
   "metadata": {},
   "source": [
    "### Funciones principales de `Numpy`\n",
    " - `.max `: retorna el numero más grande que contiene un array"
   ]
  },
  {
   "cell_type": "code",
   "execution_count": 93,
   "metadata": {},
   "outputs": [
    {
     "name": "stdout",
     "output_type": "stream",
     "text": [
      "17\n",
      "[[ 8 10  8  7  8]\n",
      " [15 17 16  9  9]]\n"
     ]
    }
   ],
   "source": [
    "print(arr.max())\n",
    "print(matriz)"
   ]
  },
  {
   "attachments": {},
   "cell_type": "markdown",
   "metadata": {},
   "source": [
    "Es posible navegar en las dimensiones del array para que retorne el número mayor en una de ellas, en una matriz sería o por filas o por columnas\n"
   ]
  },
  {
   "cell_type": "code",
   "execution_count": 94,
   "metadata": {},
   "outputs": [
    {
     "name": "stdout",
     "output_type": "stream",
     "text": [
      "Maximos por filas : [10 17]\n",
      "Maximos por columnas : [15 17 16  9  9]\n"
     ]
    }
   ],
   "source": [
    "#POR FILAS\n",
    "print(f'Maximos por filas : {matriz.max(1)}')\n",
    "#POR COLUMNAS\n",
    "print(f'Maximos por columnas : {matriz.max(0)}')"
   ]
  },
  {
   "attachments": {},
   "cell_type": "markdown",
   "metadata": {},
   "source": [
    "Tambien es posible obtener la posición en la cual se ubica el valor maximo en el array\n",
    "\n",
    "- `.argmax( )`: devuelve la posición en el array del número maximo, si el número maximo se encuentra repetido solo retorna la posición de menor valor"
   ]
  },
  {
   "cell_type": "code",
   "execution_count": 95,
   "metadata": {},
   "outputs": [
    {
     "data": {
      "text/plain": [
       "6"
      ]
     },
     "execution_count": 95,
     "metadata": {},
     "output_type": "execute_result"
    }
   ],
   "source": [
    "arr.argmax()"
   ]
  },
  {
   "attachments": {},
   "cell_type": "markdown",
   "metadata": {},
   "source": [
    "Tambien es posible saber la posición según la dimensión especificada, recordar que devuelve arrays de posición"
   ]
  },
  {
   "cell_type": "code",
   "execution_count": 96,
   "metadata": {},
   "outputs": [
    {
     "name": "stdout",
     "output_type": "stream",
     "text": [
      "[[ 8 10  8  7  8]\n",
      " [15 17 16  9  9]]\n",
      "\n",
      "[1 1]\n",
      "[1 1 1 1 1]\n"
     ]
    }
   ],
   "source": [
    "print(matriz)\n",
    "print()\n",
    "#POR FILAS\n",
    "print(matriz.argmax(1))\n",
    "#POR COLUMNAS\n",
    "print(matriz.argmax(0))\n"
   ]
  },
  {
   "attachments": {},
   "cell_type": "markdown",
   "metadata": {},
   "source": [
    "Por supuesto existe la función homologa para obtener el valor o valores mínimos de un array\n",
    "\n",
    "- `.min( )`: retorna el valor mínimo de un array. puede recibir como argumento la dimensión de un array en la cual se quieren buscar los valores minimos"
   ]
  },
  {
   "cell_type": "code",
   "execution_count": 97,
   "metadata": {},
   "outputs": [
    {
     "data": {
      "text/plain": [
       "array([ 8, 10,  8,  7,  8, 15, 17, 16,  9,  9])"
      ]
     },
     "execution_count": 97,
     "metadata": {},
     "output_type": "execute_result"
    }
   ],
   "source": [
    "arr"
   ]
  },
  {
   "cell_type": "code",
   "execution_count": 98,
   "metadata": {},
   "outputs": [
    {
     "data": {
      "text/plain": [
       "7"
      ]
     },
     "execution_count": 98,
     "metadata": {},
     "output_type": "execute_result"
    }
   ],
   "source": [
    "arr.min()"
   ]
  },
  {
   "cell_type": "code",
   "execution_count": 99,
   "metadata": {},
   "outputs": [
    {
     "data": {
      "text/plain": [
       "array([[ 8, 10,  8,  7,  8],\n",
       "       [15, 17, 16,  9,  9]])"
      ]
     },
     "execution_count": 99,
     "metadata": {},
     "output_type": "execute_result"
    }
   ],
   "source": [
    "matriz"
   ]
  },
  {
   "cell_type": "code",
   "execution_count": 100,
   "metadata": {},
   "outputs": [
    {
     "name": "stdout",
     "output_type": "stream",
     "text": [
      "Minimos por columnas [ 8 10  8  7  8]\n",
      "Minimos por filas [7 9]\n"
     ]
    }
   ],
   "source": [
    "#POR COLUMNAS\n",
    "print(f'Minimos por columnas {matriz.min(0)}')\n",
    "#POR COLUMNAS\n",
    "print(f'Minimos por filas {matriz.min(1)}')"
   ]
  },
  {
   "attachments": {},
   "cell_type": "markdown",
   "metadata": {},
   "source": [
    "Usamos `.argmin( )` para saber cuales son los indices en los cuales se encuentran esos valores"
   ]
  },
  {
   "cell_type": "code",
   "execution_count": 101,
   "metadata": {},
   "outputs": [
    {
     "data": {
      "text/plain": [
       "3"
      ]
     },
     "execution_count": 101,
     "metadata": {},
     "output_type": "execute_result"
    }
   ],
   "source": [
    "arr.argmin()"
   ]
  },
  {
   "cell_type": "code",
   "execution_count": 102,
   "metadata": {},
   "outputs": [
    {
     "name": "stdout",
     "output_type": "stream",
     "text": [
      "indices de los minimos por columnas [0 0 0 0 0]\n",
      "indices de los minimos por filas [3 3]\n"
     ]
    }
   ],
   "source": [
    "#POR COLUMNAS\n",
    "print(f'indices de los minimos por columnas {matriz.argmin(0)}')\n",
    "#POR COLUMNAS\n",
    "print(f'indices de los minimos por filas {matriz.argmin(1)}')"
   ]
  },
  {
   "attachments": {},
   "cell_type": "markdown",
   "metadata": {},
   "source": [
    "- `.ptp( )`:peak to peak \n",
    "            Retorna la diferencia entre el valor minimo y el valor máximo en un array"
   ]
  },
  {
   "cell_type": "code",
   "execution_count": 103,
   "metadata": {},
   "outputs": [
    {
     "data": {
      "text/plain": [
       "array([ 8, 10,  8,  7,  8, 15, 17, 16,  9,  9])"
      ]
     },
     "execution_count": 103,
     "metadata": {},
     "output_type": "execute_result"
    }
   ],
   "source": [
    "arr"
   ]
  },
  {
   "cell_type": "code",
   "execution_count": 104,
   "metadata": {},
   "outputs": [
    {
     "name": "stdout",
     "output_type": "stream",
     "text": [
      "10\n",
      "Retorna 10 porque el valor maximo del array es 17 y el valor minimo es 7\n",
      "17 - 7 = 10 \n"
     ]
    }
   ],
   "source": [
    "\n",
    "print(arr.ptp())\n",
    "print(f'Retorna {arr.ptp()} porque el valor maximo del array es {arr.max()} y el valor minimo es {arr.min()}\\n{arr.max()} - {arr.min()} = {arr.ptp()} ')\n"
   ]
  },
  {
   "attachments": {},
   "cell_type": "markdown",
   "metadata": {},
   "source": [
    "Igual que las otras funciones funciona para determinar esa diferencia en dimensiones dadas de un array"
   ]
  },
  {
   "cell_type": "code",
   "execution_count": 105,
   "metadata": {},
   "outputs": [
    {
     "name": "stdout",
     "output_type": "stream",
     "text": [
      "range(0, 5)\n"
     ]
    }
   ],
   "source": [
    "#genero un rango con el numero de columnas de la matriz\n",
    "#me va a servir para recorrerla\n",
    "print(range(matriz.shape[1]))"
   ]
  },
  {
   "cell_type": "code",
   "execution_count": 106,
   "metadata": {},
   "outputs": [
    {
     "name": "stdout",
     "output_type": "stream",
     "text": [
      "[[ 8 10  8  7  8]\n",
      " [15 17 16  9  9]]\n",
      "\n",
      "10 - 7 = 3\n",
      "17 - 9 = 8\n",
      "peak_to_peak por filas [3 8]\n",
      "\n",
      "15 - 8 = 7\n",
      "17 - 10 = 7\n",
      "16 - 8 = 8\n",
      "9 - 7 = 2\n",
      "9 - 8 = 1\n",
      "peak_to_peak por columnas [7 7 8 2 1]\n"
     ]
    }
   ],
   "source": [
    "print(matriz)\n",
    "print()\n",
    "#POR FILAS\n",
    "for fila in matriz:\n",
    "    print(f'{fila.max()} - {fila.min()} = {fila.ptp()}') \n",
    "print(f'peak_to_peak por filas {matriz.ptp(1)}')\n",
    "print()\n",
    "#POR COLUMNAS\n",
    "for j in range(matriz.shape[1]):\n",
    "    columna = matriz[:, j]\n",
    "    print(f'{columna.max()} - {columna.min()} = {columna.ptp()}')\n",
    "\n",
    "print(f'peak_to_peak por columnas {matriz.ptp(0)}')"
   ]
  },
  {
   "attachments": {},
   "cell_type": "markdown",
   "metadata": {},
   "source": [
    "Se pueden calcular los `cuantiles` de la distribución del array, ya sea en:\n",
    "- ``cuartiles``: 4 partes iguales (cuantiles 0.25; 0.50 y 0.75 )\n",
    "- ``quintiles``: 5 partes iguales (cuantiles 0.20; 0.40; 0.60 y 0.80)\n",
    "- ``deciles``: 10 partes iguales\n",
    "- ``percentiles``: 100 partes iguales\n",
    "\n",
    "Utilizamos las funciones\n",
    "- `np.cuantile(datos,cuantil)` \n",
    "- `np.percentile(datos,percentil)`\n",
    "\n",
    "En ambas ponemos como argumentos los datos y el cuantil o percentil que queremos calcular. Si somos listos podemos obtener cualquier cuartil, quintil, decil o percentil."
   ]
  },
  {
   "attachments": {},
   "cell_type": "markdown",
   "metadata": {},
   "source": [
    "- ``cuartiles``"
   ]
  },
  {
   "cell_type": "code",
   "execution_count": 107,
   "metadata": {},
   "outputs": [
    {
     "name": "stdout",
     "output_type": "stream",
     "text": [
      "[ 8 10  8  7  8 15 17 16  9  9]\n",
      "cuartiles\n",
      "[ 8.    9.   13.75]\n",
      "[ 8.    9.   13.75]\n"
     ]
    }
   ],
   "source": [
    "print(arr)\n",
    " \n",
    "quartiles= np.quantile(arr, [0.25,0.50,0.75])\n",
    "quartiles_v2 =np.percentile(arr,[25,50,75])\n",
    "print('cuartiles')\n",
    "print(quartiles)\n",
    "print(quartiles_v2)"
   ]
  },
  {
   "attachments": {},
   "cell_type": "markdown",
   "metadata": {},
   "source": [
    "- `quintiles`"
   ]
  },
  {
   "cell_type": "code",
   "execution_count": 108,
   "metadata": {},
   "outputs": [
    {
     "name": "stdout",
     "output_type": "stream",
     "text": [
      "[ 8 10  8  7  8 15 17 16  9  9]\n",
      "quintiles\n",
      "[ 8.   8.6  9.4 15.2]\n",
      "[ 8.   8.6  9.4 15.2]\n"
     ]
    }
   ],
   "source": [
    "print(arr)\n",
    " \n",
    "quintiles= np.quantile(arr, [0.20,0.40,0.60,0.80])\n",
    "quintiles_v2 =np.percentile(arr,[20,40,60,80])\n",
    "print('quintiles')\n",
    "print(quintiles)\n",
    "print(quintiles_v2)"
   ]
  },
  {
   "attachments": {},
   "cell_type": "markdown",
   "metadata": {},
   "source": [
    "- ``deciles``"
   ]
  },
  {
   "cell_type": "code",
   "execution_count": 109,
   "metadata": {},
   "outputs": [
    {
     "name": "stdout",
     "output_type": "stream",
     "text": [
      "[ 8 10  8  7  8 15 17 16  9  9]\n",
      "deciles\n",
      "[ 7.9  8.   8.   8.6  9.   9.4 11.5 15.2 16.1]\n",
      "[ 7.9  8.   8.   8.6  9.   9.4 11.5 15.2 16.1]\n"
     ]
    }
   ],
   "source": [
    "print(arr)\n",
    "\n",
    "deciles = np.percentile(arr, np.arange(10, 100, 10))\n",
    "deciles_v2=np.quantile(arr, np.arange(0.1,1,0.1))\n",
    "print('deciles')\n",
    "print(deciles)\n",
    "print(deciles_v2)\n"
   ]
  },
  {
   "attachments": {},
   "cell_type": "markdown",
   "metadata": {},
   "source": [
    "- ``percentiles``"
   ]
  },
  {
   "cell_type": "code",
   "execution_count": 110,
   "metadata": {},
   "outputs": [
    {
     "name": "stdout",
     "output_type": "stream",
     "text": [
      "[ 8 10  8  7  8 15 17 16  9  9]\n",
      "deciles\n",
      "[ 7.09  7.18  7.27  7.36  7.45  7.54  7.63  7.72  7.81  7.9   7.99  8.\n",
      "  8.    8.    8.    8.    8.    8.    8.    8.    8.    8.    8.    8.\n",
      "  8.    8.    8.    8.    8.    8.    8.    8.    8.    8.06  8.15  8.24\n",
      "  8.33  8.42  8.51  8.6   8.69  8.78  8.87  8.96  9.    9.    9.    9.\n",
      "  9.    9.    9.    9.    9.    9.    9.    9.04  9.13  9.22  9.31  9.4\n",
      "  9.49  9.58  9.67  9.76  9.85  9.94 10.15 10.6  11.05 11.5  11.95 12.4\n",
      " 12.85 13.3  13.75 14.2  14.65 15.02 15.11 15.2  15.29 15.38 15.47 15.56\n",
      " 15.65 15.74 15.83 15.92 16.01 16.1  16.19 16.28 16.37 16.46 16.55 16.64\n",
      " 16.73 16.82 16.91]\n",
      "[ 7.09  7.18  7.27  7.36  7.45  7.54  7.63  7.72  7.81  7.9   7.99  8.\n",
      "  8.    8.    8.    8.    8.    8.    8.    8.    8.    8.    8.    8.\n",
      "  8.    8.    8.    8.    8.    8.    8.    8.    8.    8.06  8.15  8.24\n",
      "  8.33  8.42  8.51  8.6   8.69  8.78  8.87  8.96  9.    9.    9.    9.\n",
      "  9.    9.    9.    9.    9.    9.    9.    9.04  9.13  9.22  9.31  9.4\n",
      "  9.49  9.58  9.67  9.76  9.85  9.94 10.15 10.6  11.05 11.5  11.95 12.4\n",
      " 12.85 13.3  13.75 14.2  14.65 15.02 15.11 15.2  15.29 15.38 15.47 15.56\n",
      " 15.65 15.74 15.83 15.92 16.01 16.1  16.19 16.28 16.37 16.46 16.55 16.64\n",
      " 16.73 16.82 16.91]\n",
      "\n",
      "el percentil 50 del array es: 9.0\n"
     ]
    }
   ],
   "source": [
    "print(arr)\n",
    "\n",
    "percentiles = np.percentile(arr, np.arange(1, 100))\n",
    "percentiles_v2=np.quantile(arr, np.arange(0.01,1,0.01))\n",
    "print('deciles')\n",
    "print(percentiles)\n",
    "print(percentiles_v2)\n",
    "\n",
    "#calcular el percentil 50\n",
    "\n",
    "percentil_50 = np.percentile(arr,50)\n",
    "print( f'\\nel percentil 50 del array es: {percentil_50}')"
   ]
  },
  {
   "attachments": {},
   "cell_type": "markdown",
   "metadata": {},
   "source": [
    "Ordenación de datos en un array\n",
    "\n",
    "- `np.sort( )`: ordena de menor a mayor un array modificando la lista `**original**`"
   ]
  },
  {
   "cell_type": "code",
   "execution_count": 111,
   "metadata": {},
   "outputs": [
    {
     "data": {
      "text/plain": [
       "array([ 7,  8,  8,  8,  9,  9, 10, 15, 16, 17])"
      ]
     },
     "execution_count": 111,
     "metadata": {},
     "output_type": "execute_result"
    }
   ],
   "source": [
    "arr.sort()\n",
    "arr\n"
   ]
  },
  {
   "attachments": {},
   "cell_type": "markdown",
   "metadata": {},
   "source": [
    "## Calcular medidas de tendencia central\n",
    "\n",
    "### Media\n",
    "- `np.mean(data)`: calcula la media o promedio de la distribucion dada"
   ]
  },
  {
   "cell_type": "code",
   "execution_count": 112,
   "metadata": {},
   "outputs": [
    {
     "name": "stdout",
     "output_type": "stream",
     "text": [
      "la media de los datos del array es 10.7\n",
      "\n",
      "la media de los datos de la matriz por columnas (eje 1) es [ 8.  13.4]\n"
     ]
    }
   ],
   "source": [
    "media = np.mean(arr)\n",
    "print(f'la media de los datos del array es {media}')\n",
    "print()\n",
    "print(f'la media de los datos de la matriz por columnas (eje 1) es {np.mean(matriz,1)}')"
   ]
  },
  {
   "attachments": {},
   "cell_type": "markdown",
   "metadata": {},
   "source": [
    "\n",
    "### Mediana\n",
    "- `np.median(data)`: calcula la mediana de la distribución"
   ]
  },
  {
   "cell_type": "code",
   "execution_count": 113,
   "metadata": {},
   "outputs": [
    {
     "name": "stdout",
     "output_type": "stream",
     "text": [
      "la mediana de la distribución es: 9.0\n",
      "\n",
      "el percentil 50 del array es: 9.0\n",
      "la mediana del eje 0 de la matriz es [ 8. 15.]\n"
     ]
    }
   ],
   "source": [
    "mediana = np.median(arr)\n",
    "print(f'la mediana de la distribución es: {mediana}')\n",
    "percentil_50 = np.percentile(arr,50)\n",
    "print( f'\\nel percentil 50 del array es: {percentil_50}')\n",
    "\n",
    "print(f'la mediana del eje 0 de la matriz es {np.median(matriz,1)}')"
   ]
  },
  {
   "attachments": {},
   "cell_type": "markdown",
   "metadata": {},
   "source": [
    "### Moda\n",
    "\n",
    "Numpy no posee un metodo directo para el calculo de la moda, instalaremos el paquete SciPy e importaremos el modulo stats para calcularla\n",
    "\n",
    "-`stats.mode(data)`: devuelve un objeto llamado **ModeResult** en el cual se indica el valor modal ('mode') y la frecuencia modal ('count'), tambien posee otro argumento opcional (keepdims = `True` or `False`) el cual puede hacer que la funcion mantenga o no las mismas dimensiones que el array original en su salida"
   ]
  },
  {
   "cell_type": "code",
   "execution_count": 114,
   "metadata": {},
   "outputs": [
    {
     "name": "stdout",
     "output_type": "stream",
     "text": [
      "Valor modal: [8]\n",
      "Frecuencia modal: [3]\n"
     ]
    },
    {
     "name": "stderr",
     "output_type": "stream",
     "text": [
      "/tmp/ipykernel_16803/732047997.py:2: FutureWarning: Unlike other reduction functions (e.g. `skew`, `kurtosis`), the default behavior of `mode` typically preserves the axis it acts along. In SciPy 1.11.0, this behavior will change: the default value of `keepdims` will become False, the `axis` over which the statistic is taken will be eliminated, and the value None will no longer be accepted. Set `keepdims` to True or False to avoid this warning.\n",
      "  moda = stats.mode(arr)\n"
     ]
    }
   ],
   "source": [
    "\n",
    "from scipy import stats\n",
    "moda = stats.mode(arr)\n",
    "valor_modal = moda.mode\n",
    "frecuencia_modal = moda.count\n",
    "\n",
    "print(\"Valor modal:\", valor_modal)\n",
    "print(\"Frecuencia modal:\", frecuencia_modal)\n"
   ]
  },
  {
   "attachments": {},
   "cell_type": "markdown",
   "metadata": {},
   "source": [
    "### Desviación estandar\n",
    "\n",
    "- `np.std(data)`: calcula la desviación estandar de la distribución"
   ]
  },
  {
   "cell_type": "code",
   "execution_count": 115,
   "metadata": {},
   "outputs": [
    {
     "name": "stdout",
     "output_type": "stream",
     "text": [
      "la desviación estandar de la distribución del array  es: 3.579106033634656\n",
      "la desviación estandar de la matriz en el eje 0 es [1.  1.  3.5 4.  4. ]\n"
     ]
    }
   ],
   "source": [
    "desv_stand = np.std(arr)\n",
    "print(f'la desviación estandar de la distribución del array  es: {desv_stand}')\n",
    "print(f'la desviación estandar de la matriz en el eje 0 es {np.std(matriz,0)}')"
   ]
  },
  {
   "attachments": {},
   "cell_type": "markdown",
   "metadata": {},
   "source": [
    "### Varianza \n",
    "\n",
    "- `np.var( )`: calcula la varianza de la distribución"
   ]
  },
  {
   "cell_type": "code",
   "execution_count": 116,
   "metadata": {},
   "outputs": [
    {
     "name": "stdout",
     "output_type": "stream",
     "text": [
      "la varianza del array es: 12.809999999999999\n",
      "la varianza del array es: 12.809999999999999\n",
      "-----\n",
      "la varianza de la matriz en el eje 0 es [ 1.    1.   12.25 16.   16.  ]\n"
     ]
    }
   ],
   "source": [
    "#elevamos al cuadrado la desviación estandar\n",
    "var= desv_stand **2\n",
    "print(f'la varianza del array es: {var}')\n",
    "var = np.var(arr) \n",
    "print(f'la varianza del array es: {var}')\n",
    "print('-'*5)\n",
    "print(f'la varianza de la matriz en el eje 0 es {np.var(matriz,0)}')"
   ]
  },
  {
   "attachments": {},
   "cell_type": "markdown",
   "metadata": {},
   "source": [
    "Concatenar arrays"
   ]
  },
  {
   "cell_type": "code",
   "execution_count": 117,
   "metadata": {},
   "outputs": [],
   "source": [
    "#Creamos dos arrays\n",
    "a = np.array([[1,2],[3,4]])\n",
    "b = np.array([5,6])"
   ]
  },
  {
   "cell_type": "code",
   "execution_count": 118,
   "metadata": {},
   "outputs": [
    {
     "ename": "ValueError",
     "evalue": "all the input arrays must have same number of dimensions, but the array at index 0 has 2 dimension(s) and the array at index 1 has 1 dimension(s)",
     "output_type": "error",
     "traceback": [
      "\u001b[0;31m---------------------------------------------------------------------------\u001b[0m",
      "\u001b[0;31mValueError\u001b[0m                                Traceback (most recent call last)",
      "Cell \u001b[0;32mIn[118], line 1\u001b[0m\n\u001b[0;32m----> 1\u001b[0m np\u001b[39m.\u001b[39;49mconcatenate((a,b),axis\u001b[39m=\u001b[39;49m\u001b[39m0\u001b[39;49m)\n",
      "File \u001b[0;32m<__array_function__ internals>:200\u001b[0m, in \u001b[0;36mconcatenate\u001b[0;34m(*args, **kwargs)\u001b[0m\n",
      "\u001b[0;31mValueError\u001b[0m: all the input arrays must have same number of dimensions, but the array at index 0 has 2 dimension(s) and the array at index 1 has 1 dimension(s)"
     ]
    }
   ],
   "source": [
    "np.concatenate((a,b),axis=0)\n"
   ]
  },
  {
   "cell_type": "code",
   "execution_count": 119,
   "metadata": {},
   "outputs": [
    {
     "name": "stdout",
     "output_type": "stream",
     "text": [
      "2\n",
      "1\n"
     ]
    },
    {
     "data": {
      "text/plain": [
       "array([[5, 6]])"
      ]
     },
     "execution_count": 119,
     "metadata": {},
     "output_type": "execute_result"
    }
   ],
   "source": [
    "#Evaluamos las dimensiones \n",
    "print(a.ndim) # 2 dims\n",
    "print(b.ndim) # 1 dim\n",
    "#añadimos una dimensión a b y resolvemos el error\n",
    "b = np.expand_dims(b,axis=0)\n",
    "b"
   ]
  },
  {
   "cell_type": "code",
   "execution_count": 120,
   "metadata": {},
   "outputs": [
    {
     "data": {
      "text/plain": [
       "array([[1, 2],\n",
       "       [3, 4],\n",
       "       [5, 6]])"
      ]
     },
     "execution_count": 120,
     "metadata": {},
     "output_type": "execute_result"
    }
   ],
   "source": [
    "np.concatenate((a,b),axis=0)"
   ]
  },
  {
   "attachments": {},
   "cell_type": "markdown",
   "metadata": {},
   "source": [
    "Utilizamos la transpuesta de la matriz B para poder hacer la concatenacion, tambien funcionaria si hicieramos un reshape"
   ]
  },
  {
   "cell_type": "code",
   "execution_count": 121,
   "metadata": {},
   "outputs": [
    {
     "data": {
      "text/plain": [
       "array([[1, 2, 5],\n",
       "       [3, 4, 6]])"
      ]
     },
     "execution_count": 121,
     "metadata": {},
     "output_type": "execute_result"
    }
   ],
   "source": [
    "#Utilizamos la transpuesta de la matriz B para poder hacer la concatenacion\n",
    "np.concatenate((a,b.T),axis=1)"
   ]
  },
  {
   "cell_type": "code",
   "execution_count": null,
   "metadata": {},
   "outputs": [],
   "source": []
  }
 ],
 "metadata": {
  "kernelspec": {
   "display_name": "env_work",
   "language": "python",
   "name": "python3"
  },
  "language_info": {
   "codemirror_mode": {
    "name": "ipython",
    "version": 3
   },
   "file_extension": ".py",
   "mimetype": "text/x-python",
   "name": "python",
   "nbconvert_exporter": "python",
   "pygments_lexer": "ipython3",
   "version": "3.11.3"
  },
  "orig_nbformat": 4
 },
 "nbformat": 4,
 "nbformat_minor": 2
}
