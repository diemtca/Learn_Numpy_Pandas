{
 "cells": [
  {
   "attachments": {},
   "cell_type": "markdown",
   "metadata": {},
   "source": [
    "## Usar ambientes de conda\n",
    "\n",
    "``` sh\n",
    "#Crear ambiente\n",
    "conda create --name py39 python=3.9 pandas=1.2\n",
    "#Ir al ambiente\n",
    "conda activate py39\n",
    "# Instalar boltons\n",
    "conda install -c conda-forge boltons\n",
    "#Devolver a un punto anterio y asi no tener que remover\n",
    "conda list -r\n",
    "#Devolverme a larevision 0\n",
    "conda install --revision 0\n",
    "#Revisar si esta instalado\n",
    "conda list boltons\n",
    "#Exportar tu ambiente\n",
    "conda env export\n",
    "#Exportar tu ambiente pero sin las versiones\n",
    "conda env export --no-builds\n",
    "#Exportar tu ambiente LA MEJOR\n",
    "conda env export --from-history\n",
    "#Exportar tu ambiente a un archivo\n",
    "conda env export --from-history --file environment.yam\n",
    "#Remover ambiente \n",
    "conda env remove --name py39\n",
    "#Importar el ambiente\n",
    "conda env create --file environment.yaml\n",
    "#Ir al ambiente \n",
    "conda activate py39\n",
    "```"
   ]
  }
 ],
 "metadata": {
  "kernelspec": {
   "display_name": "Python 3",
   "language": "python",
   "name": "python3"
  },
  "language_info": {
   "codemirror_mode": {
    "name": "ipython",
    "version": 3
   },
   "file_extension": ".py",
   "mimetype": "text/x-python",
   "name": "python",
   "nbconvert_exporter": "python",
   "pygments_lexer": "ipython3",
   "version": "3.9.15"
  },
  "orig_nbformat": 4
 },
 "nbformat": 4,
 "nbformat_minor": 2
}
